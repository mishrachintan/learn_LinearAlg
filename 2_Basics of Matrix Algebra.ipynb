{
 "cells": [
  {
   "cell_type": "code",
   "execution_count": 1,
   "id": "3af46f0a-9df5-4557-a340-665e08efe280",
   "metadata": {},
   "outputs": [
    {
     "name": "stdout",
     "output_type": "stream",
     "text": [
      "P:\n",
      " [[1 7]\n",
      " [2 1]\n",
      " [3 2]]\n",
      "Q1:\n",
      " [[ 1  1]\n",
      " [ 1 -1]]\n"
     ]
    }
   ],
   "source": [
    "import numpy as np\n",
    "P=np.array([[1, 7], [2, 1], [3, 2]])\n",
    "Q1=np.array([[1, 1], [1, -1]])\n",
    "print(\"P:\\n\",P)\n",
    "print(\"Q1:\\n\",Q1)"
   ]
  },
  {
   "cell_type": "code",
   "execution_count": null,
   "id": "e2152c0c-7a23-4870-a552-6ce97469ddfa",
   "metadata": {},
   "outputs": [],
   "source": [
    "# Will throw error because matrices have different dimensions\n",
    "np.add(P,Q1)"
   ]
  },
  {
   "cell_type": "code",
   "execution_count": 5,
   "id": "279914f1-3726-4503-b3e9-93a6b70fcd9c",
   "metadata": {},
   "outputs": [
    {
     "name": "stdout",
     "output_type": "stream",
     "text": [
      "C1:\n",
      "[[2 8]\n",
      " [3 0]\n",
      " [4 2]]\n"
     ]
    }
   ],
   "source": [
    "Q=np.array([[1, 1], [1, -1], [1,0]])\n",
    "C1 = np.add(P,Q) # similarly np.subtract\n",
    "print(f\"C1:\\n{C1}\")"
   ]
  },
  {
   "cell_type": "code",
   "execution_count": 6,
   "id": "eb092bf5-55a8-421f-b92c-8e6214a6f024",
   "metadata": {},
   "outputs": [
    {
     "name": "stdout",
     "output_type": "stream",
     "text": [
      "P*R (P->3x2, R->2x3, hence P*R->3x3):\n",
      " [[8 3 8]\n",
      " [3 6 3]\n",
      " [5 9 5]]\n"
     ]
    }
   ],
   "source": [
    "P=np.array([[1, 7], [2, 1], [3, 2]])\n",
    "R=np.array([[1,3,1], [1,0,1]])\n",
    "print(\"P*R (P->3x2, R->2x3, hence P*R->3x3):\\n\",np.dot(P,R))"
   ]
  },
  {
   "cell_type": "code",
   "execution_count": 7,
   "id": "39ff067b-024d-472b-88e2-d7713d3e7676",
   "metadata": {},
   "outputs": [
    {
     "name": "stdout",
     "output_type": "stream",
     "text": [
      "np.linalg.det(C):  0.0\n",
      "If det=0, then it is 'Singular Matrix' for which inverse does not exist!\n",
      "Hence, np.linalg.inv(C): ERROR!\n"
     ]
    },
    {
     "ename": "LinAlgError",
     "evalue": "Singular matrix",
     "output_type": "error",
     "traceback": [
      "\u001b[1;31m---------------------------------------------------------------------------\u001b[0m",
      "\u001b[1;31mLinAlgError\u001b[0m                               Traceback (most recent call last)",
      "Cell \u001b[1;32mIn[7], line 7\u001b[0m\n\u001b[0;32m      5\u001b[0m \u001b[38;5;28mprint\u001b[39m(\u001b[38;5;124m\"\u001b[39m\u001b[38;5;124mIf det=0, then it is \u001b[39m\u001b[38;5;124m'\u001b[39m\u001b[38;5;124mSingular Matrix\u001b[39m\u001b[38;5;124m'\u001b[39m\u001b[38;5;124m for which inverse does not exist!\u001b[39m\u001b[38;5;124m\"\u001b[39m)\n\u001b[0;32m      6\u001b[0m \u001b[38;5;28mprint\u001b[39m(\u001b[38;5;124m\"\u001b[39m\u001b[38;5;124mHence, np.linalg.inv(C): ERROR!\u001b[39m\u001b[38;5;124m\"\u001b[39m)\n\u001b[1;32m----> 7\u001b[0m \u001b[38;5;28mprint\u001b[39m(np\u001b[38;5;241m.\u001b[39mlinalg\u001b[38;5;241m.\u001b[39minv(C))\n",
      "File \u001b[1;32m~\\anaconda3\\Lib\\site-packages\\numpy\\linalg\\_linalg.py:615\u001b[0m, in \u001b[0;36minv\u001b[1;34m(a)\u001b[0m\n\u001b[0;32m    612\u001b[0m signature \u001b[38;5;241m=\u001b[39m \u001b[38;5;124m'\u001b[39m\u001b[38;5;124mD->D\u001b[39m\u001b[38;5;124m'\u001b[39m \u001b[38;5;28;01mif\u001b[39;00m isComplexType(t) \u001b[38;5;28;01melse\u001b[39;00m \u001b[38;5;124m'\u001b[39m\u001b[38;5;124md->d\u001b[39m\u001b[38;5;124m'\u001b[39m\n\u001b[0;32m    613\u001b[0m \u001b[38;5;28;01mwith\u001b[39;00m errstate(call\u001b[38;5;241m=\u001b[39m_raise_linalgerror_singular, invalid\u001b[38;5;241m=\u001b[39m\u001b[38;5;124m'\u001b[39m\u001b[38;5;124mcall\u001b[39m\u001b[38;5;124m'\u001b[39m,\n\u001b[0;32m    614\u001b[0m               over\u001b[38;5;241m=\u001b[39m\u001b[38;5;124m'\u001b[39m\u001b[38;5;124mignore\u001b[39m\u001b[38;5;124m'\u001b[39m, divide\u001b[38;5;241m=\u001b[39m\u001b[38;5;124m'\u001b[39m\u001b[38;5;124mignore\u001b[39m\u001b[38;5;124m'\u001b[39m, under\u001b[38;5;241m=\u001b[39m\u001b[38;5;124m'\u001b[39m\u001b[38;5;124mignore\u001b[39m\u001b[38;5;124m'\u001b[39m):\n\u001b[1;32m--> 615\u001b[0m     ainv \u001b[38;5;241m=\u001b[39m _umath_linalg\u001b[38;5;241m.\u001b[39minv(a, signature\u001b[38;5;241m=\u001b[39msignature)\n\u001b[0;32m    616\u001b[0m \u001b[38;5;28;01mreturn\u001b[39;00m wrap(ainv\u001b[38;5;241m.\u001b[39mastype(result_t, copy\u001b[38;5;241m=\u001b[39m\u001b[38;5;28;01mFalse\u001b[39;00m))\n",
      "File \u001b[1;32m~\\anaconda3\\Lib\\site-packages\\numpy\\linalg\\_linalg.py:104\u001b[0m, in \u001b[0;36m_raise_linalgerror_singular\u001b[1;34m(err, flag)\u001b[0m\n\u001b[0;32m    103\u001b[0m \u001b[38;5;28;01mdef\u001b[39;00m\u001b[38;5;250m \u001b[39m\u001b[38;5;21m_raise_linalgerror_singular\u001b[39m(err, flag):\n\u001b[1;32m--> 104\u001b[0m     \u001b[38;5;28;01mraise\u001b[39;00m LinAlgError(\u001b[38;5;124m\"\u001b[39m\u001b[38;5;124mSingular matrix\u001b[39m\u001b[38;5;124m\"\u001b[39m)\n",
      "\u001b[1;31mLinAlgError\u001b[0m: Singular matrix"
     ]
    }
   ],
   "source": [
    "C = np.dot(P,R)\n",
    "# Calculate determinant of C\n",
    "det= np.linalg.det(C)\n",
    "print(\"np.linalg.det(C): \",det)\n",
    "print(\"If det=0, then it is 'Singular Matrix' for which inverse does not exist!\")\n",
    "print(\"Hence, np.linalg.inv(C): ERROR!\")\n",
    "print(np.linalg.inv(C))"
   ]
  },
  {
   "cell_type": "code",
   "execution_count": 8,
   "id": "a9b05f76-bacc-496b-bdf1-3b5a3bfb603a",
   "metadata": {},
   "outputs": [
    {
     "name": "stdout",
     "output_type": "stream",
     "text": [
      "M:\n",
      " [[ 1 -1]\n",
      " [ 2  3]]\n",
      "np.linalg.det(M):  5.000000000000001\n",
      "np.linalg.inv(M):\n",
      " [[ 0.6  0.2]\n",
      " [-0.4  0.2]]\n"
     ]
    }
   ],
   "source": [
    "M=np.array([[1,-1], [2,3]])\n",
    "print(\"M:\\n\",M)\n",
    "print(\"np.linalg.det(M): \",np.linalg.det(M))\n",
    "print(\"np.linalg.inv(M):\\n\",np.linalg.inv(M))"
   ]
  },
  {
   "cell_type": "code",
   "execution_count": 24,
   "id": "729a49ac-3d8a-44ab-8561-51b002eda5b0",
   "metadata": {},
   "outputs": [
    {
     "name": "stdout",
     "output_type": "stream",
     "text": [
      "Determinant Properties of A:\n",
      "Det(kA)=k**dim(A)\n",
      "\n",
      "A:\n",
      " [[1 7]\n",
      " [2 1]]\n",
      "Det(A): -13.0\n",
      "\n",
      "(kA) where k=3:\n",
      " [[ 3 21]\n",
      " [ 6  3]]\n",
      "Det(kA)=(k^dim(A)*Det(A): -117.00000000000003\n"
     ]
    }
   ],
   "source": [
    "# Taken from Ryan & Matt data science youtube channel\n",
    "#    https://www.youtube.com/@RyanAndMattDataScience\n",
    "A = np.array([[1,7], [2,1]])\n",
    "print(f\"Determinant Properties of A:\")\n",
    "print(\"Det(kA)=k**dim(A)\\n\")\n",
    "print(\"A:\\n\", A)\n",
    "print(\"Det(A):\",np.linalg.det(A))\n",
    "print(\"\\n(kA) where k=3:\\n\", 3*A)\n",
    "print(\"Det(kA)=(k^dim(A)*Det(A):\", np.linalg.det(3*A))"
   ]
  },
  {
   "cell_type": "code",
   "execution_count": 2,
   "id": "99fdb7cc-51be-4f78-a4bf-ac74a047cf64",
   "metadata": {},
   "outputs": [
    {
     "name": "stdout",
     "output_type": "stream",
     "text": [
      "Det(AB) = Det(A)*Det(B)\n",
      "Det_A:5.000000000000001, Det_B:-29.99999999999999, Det_AB:-149.99999999999997\n"
     ]
    }
   ],
   "source": [
    "print(\"Det(AB) = Det(A)*Det(B)\")\n",
    "A = np.array([[2,1],[3,4]])\n",
    "B = np.array([[0,5],[6,7]])\n",
    "Det_A = np.linalg.det(A)\n",
    "Det_B = np.linalg.det(B)\n",
    "Det_AB = np.linalg.det(np.dot(A,B))\n",
    "print(f\"Det_A:{Det_A}, Det_B:{Det_B}, Det_AB:{Det_AB}\")"
   ]
  },
  {
   "cell_type": "code",
   "execution_count": 9,
   "id": "88a5c0ad-f17b-4546-b840-e04c5d53dbb4",
   "metadata": {},
   "outputs": [
    {
     "name": "stdout",
     "output_type": "stream",
     "text": [
      "Det(A) = -Det(A_swapped) --> (where A_swapped refers to swapping of rows or columns)\n",
      "A:\n",
      " [[2 1]\n",
      " [3 4]]\n",
      "Det_A:  5.000000000000001\n",
      "\n",
      "A_swapped_rows:\n",
      " [[3 4]\n",
      " [2 1]]\n",
      "Det_A_swapped_rows: -5.000000000000001\n",
      "\n",
      "A_swapped_cols:\n",
      " [[1 2]\n",
      " [4 3]]\n",
      "Det_A_swapped_cols: -4.999999999999999\n"
     ]
    }
   ],
   "source": [
    "print(\"Det(A) = -Det(A_swapped) --> (where A_swapped refers to swapping of rows or columns)\")\n",
    "print(\"A:\\n\", A)\n",
    "print(\"Det_A: \", Det_A)\n",
    "A_swapped_rows = np.array([[3,4],[2,1]])\n",
    "A_swapped_cols = np.array([[1,2],[4,3]])\n",
    "print(\"\\nA_swapped_rows:\\n\", A_swapped_rows)\n",
    "print(\"Det_A_swapped_rows:\", np.linalg.det(A_swapped_rows))\n",
    "print(\"\\nA_swapped_cols:\\n\", A_swapped_cols)\n",
    "print(\"Det_A_swapped_cols:\", np.linalg.det(A_swapped_cols))"
   ]
  },
  {
   "cell_type": "code",
   "execution_count": null,
   "id": "436484db-931b-4cf7-9e63-c876e8e98845",
   "metadata": {},
   "outputs": [],
   "source": []
  }
 ],
 "metadata": {
  "kernelspec": {
   "display_name": "Python [conda env:base] *",
   "language": "python",
   "name": "conda-base-py"
  },
  "language_info": {
   "codemirror_mode": {
    "name": "ipython",
    "version": 3
   },
   "file_extension": ".py",
   "mimetype": "text/x-python",
   "name": "python",
   "nbconvert_exporter": "python",
   "pygments_lexer": "ipython3",
   "version": "3.13.5"
  }
 },
 "nbformat": 4,
 "nbformat_minor": 5
}
