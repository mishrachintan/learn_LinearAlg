{
 "cells": [
  {
   "cell_type": "code",
   "execution_count": 5,
   "id": "d1c9d764-2e14-48f7-920d-a63bd03d3c30",
   "metadata": {},
   "outputs": [
    {
     "name": "stdout",
     "output_type": "stream",
     "text": [
      "[[1. 0.]\n",
      " [0. 1.]]\n"
     ]
    }
   ],
   "source": [
    "import numpy as np\n",
    "\n",
    "I = np.identity(2) # 2x2 identity matrix\n",
    "# I = np.eye(2) # this is also the same as above\n",
    "print(I)"
   ]
  },
  {
   "cell_type": "code",
   "execution_count": 6,
   "id": "7ced2897-ebf1-49b7-b2a6-59bf55a90d7b",
   "metadata": {},
   "outputs": [
    {
     "name": "stdout",
     "output_type": "stream",
     "text": [
      "np.dot(A,I):\n",
      " [[2. 5.]\n",
      " [6. 8.]]\n"
     ]
    }
   ],
   "source": [
    "# Multiplication with identity matrix\n",
    "A = np.array([[2,5], [6,8]])\n",
    "prod = np.dot(A, I)\n",
    "print(\"np.dot(A,I):\\n\",prod)"
   ]
  },
  {
   "cell_type": "code",
   "execution_count": 8,
   "id": "31ee193f-bad4-4a44-89ed-cf9b9846bce5",
   "metadata": {},
   "outputs": [
    {
     "name": "stdout",
     "output_type": "stream",
     "text": [
      "np.linalg.inv(I):\n",
      " [[1. 0.]\n",
      " [0. 1.]]\n"
     ]
    }
   ],
   "source": [
    "# Inverse of identity matrix = Identity matrix itself\n",
    "print(\"np.linalg.inv(I):\\n\", np.linalg.inv(I))"
   ]
  },
  {
   "cell_type": "code",
   "execution_count": 9,
   "id": "ca6311a7-817a-40ef-b6df-a4197c94fa95",
   "metadata": {},
   "outputs": [
    {
     "name": "stdout",
     "output_type": "stream",
     "text": [
      "np.linalg.eig(I):\n",
      " EigResult(eigenvalues=array([1., 1.]), eigenvectors=array([[1., 0.],\n",
      "       [0., 1.]]))\n"
     ]
    }
   ],
   "source": [
    "# Eigen values\n",
    "print(\"np.linalg.eig(I):\\n\", np.linalg.eig(I))"
   ]
  },
  {
   "cell_type": "code",
   "execution_count": 11,
   "id": "52f02706-087e-48e8-a32e-6eb6c4380c31",
   "metadata": {},
   "outputs": [
    {
     "name": "stdout",
     "output_type": "stream",
     "text": [
      "Eigen values:\n",
      " [1. 1.]\n",
      "Eigen vectors:\n",
      " [[1. 0.]\n",
      " [0. 1.]]\n"
     ]
    }
   ],
   "source": [
    "eigVal, eigVect = np.linalg.eig(I)\n",
    "print(\"Eigen values:\\n\",eigVal)\n",
    "print(\"Eigen vectors:\\n\", eigVect)"
   ]
  }
 ],
 "metadata": {
  "kernelspec": {
   "display_name": "Python [conda env:base] *",
   "language": "python",
   "name": "conda-base-py"
  },
  "language_info": {
   "codemirror_mode": {
    "name": "ipython",
    "version": 3
   },
   "file_extension": ".py",
   "mimetype": "text/x-python",
   "name": "python",
   "nbconvert_exporter": "python",
   "pygments_lexer": "ipython3",
   "version": "3.13.5"
  }
 },
 "nbformat": 4,
 "nbformat_minor": 5
}
