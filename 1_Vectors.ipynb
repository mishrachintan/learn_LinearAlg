{
 "cells": [
  {
   "cell_type": "code",
   "execution_count": 1,
   "id": "ed34b660-782b-45cc-abc0-27722d318d25",
   "metadata": {},
   "outputs": [],
   "source": [
    "import numpy as np\n",
    "v=np.array([1, -1, 2])\n",
    "w=np.array([2, 5, 2])"
   ]
  },
  {
   "cell_type": "code",
   "execution_count": 5,
   "id": "064451af-9ddc-4f32-b13f-3613cc4029ed",
   "metadata": {},
   "outputs": [
    {
     "name": "stdout",
     "output_type": "stream",
     "text": [
      "v+w:  [3 4 4]\n",
      "v-w:  [-1 -6  0]\n",
      "3*v:  [ 3 -3  6]\n"
     ]
    }
   ],
   "source": [
    "print(\"v+w: \",v+w)\n",
    "print(\"v-w: \",v-w)\n",
    "print(\"3*v: \",3*v)"
   ]
  },
  {
   "cell_type": "code",
   "execution_count": 7,
   "id": "e207d317-cb86-449b-83f3-30db149b11bf",
   "metadata": {},
   "outputs": [
    {
     "name": "stdout",
     "output_type": "stream",
     "text": [
      "Length of vector v-->(sqrt(x1^2+x2^2+x3^2))-->np.linalg.norm(v):  2.449489742783178\n"
     ]
    }
   ],
   "source": [
    "print(\"Length of vector v-->(sqrt(x1^2+x2^2+x3^2))-->np.linalg.norm(v): \", np.linalg.norm(v))"
   ]
  },
  {
   "cell_type": "code",
   "execution_count": 8,
   "id": "97c9c475-d87e-4f5c-8b3f-3d7c9e65a298",
   "metadata": {},
   "outputs": [
    {
     "name": "stdout",
     "output_type": "stream",
     "text": [
      "Dot product v.w-->np.dot(v,w):  1\n"
     ]
    }
   ],
   "source": [
    "print(\"Dot product v.w-->np.dot(v,w): \", np.dot(v,w))"
   ]
  }
 ],
 "metadata": {
  "kernelspec": {
   "display_name": "Python [conda env:base] *",
   "language": "python",
   "name": "conda-base-py"
  },
  "language_info": {
   "codemirror_mode": {
    "name": "ipython",
    "version": 3
   },
   "file_extension": ".py",
   "mimetype": "text/x-python",
   "name": "python",
   "nbconvert_exporter": "python",
   "pygments_lexer": "ipython3",
   "version": "3.13.5"
  }
 },
 "nbformat": 4,
 "nbformat_minor": 5
}
